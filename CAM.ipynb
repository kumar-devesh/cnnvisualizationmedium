{
  "nbformat": 4,
  "nbformat_minor": 0,
  "metadata": {
    "colab": {
      "name": "CAM.ipynb",
      "provenance": [],
      "collapsed_sections": [],
      "authorship_tag": "ABX9TyN/nvCeDRxYVQynAKPeu2KE",
      "include_colab_link": true
    },
    "kernelspec": {
      "name": "python3",
      "display_name": "Python 3"
    },
    "language_info": {
      "name": "python"
    }
  },
  "cells": [
    {
      "cell_type": "markdown",
      "metadata": {
        "id": "view-in-github",
        "colab_type": "text"
      },
      "source": [
        "<a href=\"https://colab.research.google.com/github/kumar-devesh/cnnvisualizationmedium/blob/main/CAM.ipynb\" target=\"_parent\"><img src=\"https://colab.research.google.com/assets/colab-badge.svg\" alt=\"Open In Colab\"/></a>"
      ]
    },
    {
      "cell_type": "markdown",
      "metadata": {
        "id": "b6e-wpUv_J3Y"
      },
      "source": [
        "## CAM"
      ]
    },
    {
      "cell_type": "markdown",
      "metadata": {
        "id": "YJTE_SXO_KGP"
      },
      "source": [
        "Softmax input for class $c$, $Y^c$ is given by:\n",
        "\n",
        "$$\n",
        "Y^c=\\frac{1}{Z} \\sum_{k} w^c_k\\sum_{i}\\sum_{j}A^k_{ij}\n",
        "$$\n",
        "\n"
      ]
    },
    {
      "cell_type": "markdown",
      "metadata": {
        "id": "USsruJeY_KRt"
      },
      "source": [
        "For each pixel location $(i,j)$ in class specific saliency map is calculated as:\n",
        "\n",
        "$$\n",
        "L^c_{ij}=\\sum_k w^c_k.A^k_{ij}\n",
        "$$\n",
        "\n"
      ]
    }
  ]
}