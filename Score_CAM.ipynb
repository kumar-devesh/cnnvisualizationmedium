{
  "nbformat": 4,
  "nbformat_minor": 0,
  "metadata": {
    "colab": {
      "name": "Score-CAM.ipynb",
      "provenance": [],
      "authorship_tag": "ABX9TyNHly7+mHBUrpeEgv3FZMom",
      "include_colab_link": true
    },
    "kernelspec": {
      "name": "python3",
      "display_name": "Python 3"
    },
    "language_info": {
      "name": "python"
    }
  },
  "cells": [
    {
      "cell_type": "markdown",
      "metadata": {
        "id": "view-in-github",
        "colab_type": "text"
      },
      "source": [
        "<a href=\"https://colab.research.google.com/github/kumar-devesh/cnnvisualizationmedium/blob/main/Score_CAM.ipynb\" target=\"_parent\"><img src=\"https://colab.research.google.com/assets/colab-badge.svg\" alt=\"Open In Colab\"/></a>"
      ]
    },
    {
      "cell_type": "markdown",
      "metadata": {
        "id": "zqNYErJ1sbgr"
      },
      "source": [
        "## Score-CAM"
      ]
    },
    {
      "cell_type": "markdown",
      "metadata": {
        "id": "xXG8ao49uO1v"
      },
      "source": [
        "Normalization function for kth feature map in layer l:\n",
        "\n",
        "$$\n",
        "s(A^k_l)=\\frac{A^k_l- min A^k_l}{maxA^k_l-A^k_l}\n",
        "$$"
      ]
    },
    {
      "cell_type": "markdown",
      "metadata": {
        "id": "bDjp6Ko3uO4i"
      },
      "source": [
        "$$\n",
        "L^c_{Score-CAM}=ReLU(\\sum_k \\alpha_k^c A^k_l)\n",
        "$$"
      ]
    },
    {
      "cell_type": "markdown",
      "metadata": {
        "id": "HkOY9lCLuO8E"
      },
      "source": [
        "$$\n",
        "\\alpha ^c_k= \\frac{exp(S^c_k)}{\\sum_k exp(S^c_k)}\n",
        "$$\n",
        "where $S^c_k$ is the score for class c."
      ]
    }
  ]
}