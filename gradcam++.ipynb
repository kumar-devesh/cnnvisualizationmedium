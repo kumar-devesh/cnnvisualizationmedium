{
  "nbformat": 4,
  "nbformat_minor": 0,
  "metadata": {
    "colab": {
      "name": "gradcam++.ipynb",
      "provenance": [],
      "collapsed_sections": [],
      "authorship_tag": "ABX9TyOA4c2Kb5sS99Fg+rIC0Z3k",
      "include_colab_link": true
    },
    "kernelspec": {
      "name": "python3",
      "display_name": "Python 3"
    },
    "language_info": {
      "name": "python"
    }
  },
  "cells": [
    {
      "cell_type": "markdown",
      "metadata": {
        "id": "view-in-github",
        "colab_type": "text"
      },
      "source": [
        "<a href=\"https://colab.research.google.com/github/kumar-devesh/cnnvisualizationmedium/blob/main/gradcam%2B%2B.ipynb\" target=\"_parent\"><img src=\"https://colab.research.google.com/assets/colab-badge.svg\" alt=\"Open In Colab\"/></a>"
      ]
    },
    {
      "cell_type": "markdown",
      "metadata": {
        "id": "wLSxu-d69SAM"
      },
      "source": [
        "## Grad-CAM++"
      ]
    },
    {
      "cell_type": "markdown",
      "metadata": {
        "id": "7GOU6opb9SQ2"
      },
      "source": [
        "Instead of using simply the global average of gradients wrt activation maps,\n",
        "Grad cam++ uses different weights for each gradient associated with pixels of activation maps."
      ]
    },
    {
      "cell_type": "markdown",
      "metadata": {
        "id": "GC5kL0M_9SUQ"
      },
      "source": [
        "$$\n",
        "w^c_k=\\sum_i\\sum_j\\alpha^{kc}_{ij}.relu(\\frac{\\partial Y^c}{\\partial A^k_{ij}})\n",
        "$$\n"
      ]
    },
    {
      "cell_type": "markdown",
      "metadata": {
        "id": "hL5-NAxFEMtg"
      },
      "source": [
        "The clssification score for each class is then defined as $Y^c$ for feature map $A^k$:\n",
        "\n",
        "$$\n",
        "Y^c=\\sum_{k} w^c_k\\sum_{i}\\sum_{j}A^k_{ij}\n",
        "$$\n",
        "\n"
      ]
    },
    {
      "cell_type": "markdown",
      "metadata": {
        "id": "sG_qYm0yEMwO"
      },
      "source": [
        "Putting $w^c_k$ in the $Y^c$ equation: \n",
        "$$\n",
        " Y^c=\\sum_k[\\sum_a\\sum_b\\alpha^{kc}_{ab}.relu(\\frac{\\partial Y^c}{\\partial A^k_{ab}})][\\sum_i\\sum_jA^k_{ij}]\n",
        "$$"
      ]
    },
    {
      "cell_type": "markdown",
      "metadata": {
        "id": "uiqmDQ_DEMzT"
      },
      "source": [
        "Taking partial derivatives of  $Y^c$ wrt  $A^k_{ij}$ pixel in $k$ th activation map thrice and rearranging:\n",
        "$$\n",
        "\\alpha^{kc}_{ij}=\\frac{\\frac{\\partial^2Y^c}{(\\partial A^k_{ij})^2}}{{2\\frac{\\partial^2Y^c}{(\\partial A^k_{ij})^2}}+{\\sum_a\\sum_bA^k_{ab}({\\frac{\\partial^3 Y^c}{(\\partial A^k_{ij})^3}})}}\n",
        "$$ "
      ]
    },
    {
      "cell_type": "markdown",
      "metadata": {
        "id": "_ln9UQn8EM2r"
      },
      "source": [
        "If $\\alpha^{kc}_{ij} = 1/Z$ the weights for grad-cam++ reduce to grad cam weights.\n",
        "$$\n",
        "w^c_k=\\frac{1}{Z}\\sum_i\\sum_j relu(\\frac{\\partial Y^c}{\\partial A^k_{ij}})\n",
        "$$"
      ]
    }
  ]
}