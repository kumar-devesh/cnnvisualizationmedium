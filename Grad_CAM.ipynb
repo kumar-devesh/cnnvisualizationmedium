{
  "nbformat": 4,
  "nbformat_minor": 0,
  "metadata": {
    "colab": {
      "name": "Grad-CAM.ipynb",
      "provenance": [],
      "collapsed_sections": [],
      "authorship_tag": "ABX9TyNE6ggYr35J6MIhWOiexGcE",
      "include_colab_link": true
    },
    "kernelspec": {
      "name": "python3",
      "display_name": "Python 3"
    },
    "language_info": {
      "name": "python"
    }
  },
  "cells": [
    {
      "cell_type": "markdown",
      "metadata": {
        "id": "view-in-github",
        "colab_type": "text"
      },
      "source": [
        "<a href=\"https://colab.research.google.com/github/kumar-devesh/cnnvisualizationmedium/blob/main/Grad_CAM.ipynb\" target=\"_parent\"><img src=\"https://colab.research.google.com/assets/colab-badge.svg\" alt=\"Open In Colab\"/></a>"
      ]
    },
    {
      "cell_type": "markdown",
      "metadata": {
        "id": "SMhoWwQLBOuw"
      },
      "source": [
        "## Grad-CAM"
      ]
    },
    {
      "cell_type": "markdown",
      "metadata": {
        "id": "z60TBlKmBOyP"
      },
      "source": [
        "Grad-CAM defines the weights $w^c_k$ for $k$th feature map $A^k$ and class $c$ as:\n",
        "\n",
        "$$\n",
        "w^c_k = \\frac{1}{Z}\\sum_i\\sum_j\\frac{\\partial Y^c}{\\partial A^k_{ij}}\n",
        "$$"
      ]
    },
    {
      "cell_type": "markdown",
      "metadata": {
        "id": "XqLcfoK-K7rE"
      },
      "source": [
        "For each pixel location $(i,j)$ in class specific saliency map is calculated as:\n",
        "\n",
        "$$\n",
        "L^c_{ij}=relu(\\sum_k w^c_k.A^k_{ij})\n",
        "$$\n",
        "\n"
      ]
    },
    {
      "cell_type": "markdown",
      "metadata": {
        "id": "hwg70b-TJjz-"
      },
      "source": [
        "\n",
        "\n",
        "---\n",
        "\n"
      ]
    },
    {
      "cell_type": "markdown",
      "metadata": {
        "id": "ck4vlfq3JcMw"
      },
      "source": [
        "## Grad-CAM as a generalization of CAM:\n"
      ]
    },
    {
      "cell_type": "markdown",
      "metadata": {
        "id": "4W4KLgw6Je3p"
      },
      "source": [
        "$$\n",
        "Y^c=\\sum_k w_k^c .\\frac{1}{Z} \\sum_i \\sum_j A^k_{ij}\n",
        "$$"
      ]
    },
    {
      "cell_type": "markdown",
      "metadata": {
        "id": "Em7auKq3Je6b"
      },
      "source": [
        "global average pooled output $F^k$:\n",
        "\n",
        "$$\n",
        "F^k=\\frac{1}{Z}\\sum_i \\sum_j A^k_{ij}\n",
        "$$\n"
      ]
    },
    {
      "cell_type": "markdown",
      "metadata": {
        "id": "jDROCK24Je9R"
      },
      "source": [
        "class scores $Y^c$\n",
        "$$\n",
        "Y^c=\\sum_k w^c_k . F^k\n",
        "$$\n",
        "\n",
        "\n",
        "$$\n",
        "\\frac{\\partial Y^c}{\\partial F^k}=w^c_k\n",
        "$$"
      ]
    },
    {
      "cell_type": "markdown",
      "metadata": {
        "id": "pGMofSUTJe__"
      },
      "source": [
        "\n",
        "differentiating $Y^c$ wrt $F^k$\n",
        "$$\n",
        "\\frac {\\partial Y^c}{\\partial F^k}=\\frac{\\frac{\\partial Y^c}{\\partial A^k_{ij}}}{\\frac{\\partial F^k}{\\partial A^k_{ij}}}\n",
        "$$"
      ]
    },
    {
      "cell_type": "markdown",
      "metadata": {
        "id": "y5tN7KnAJfDh"
      },
      "source": [
        "$$\n",
        "\\frac {\\partial Y^c}{\\partial F^k}={\\frac{\\partial Y^c}{\\partial A^k_{ij}}}.Z\n",
        "$$"
      ]
    },
    {
      "cell_type": "markdown",
      "metadata": {
        "id": "k__Wg1OKPrxG"
      },
      "source": [
        "putting $\n",
        "\\frac{\\partial Y^c}{\\partial F^k}=w^c_k\n",
        "$:\n",
        "\n",
        "$$\n",
        "w^c_k={\\frac{\\partial Y^c}{\\partial A^k_{ij}}}.Z\n",
        "$$\n",
        "\n",
        "$$\n",
        "\\sum_i \\sum_j w^c_k=\\sum_i \\sum_j {\\frac{\\partial Y^c}{\\partial A^k_{ij}}}.Z\n",
        "$$"
      ]
    },
    {
      "cell_type": "markdown",
      "metadata": {
        "id": "jGfFcrehPrzr"
      },
      "source": [
        "$$\n",
        "Z.w^c_k=Z \\sum_i \\sum_j {\\frac{\\partial Y^c}{\\partial A^k_{ij}}}\n",
        "$$\n",
        "\n",
        "$$\n",
        "w^c_k=\\sum_i \\sum_j {\\frac{\\partial Y^c}{\\partial A^k_{ij}}}\n",
        "$$\n"
      ]
    },
    {
      "cell_type": "markdown",
      "metadata": {
        "id": "zYjPQ9XlTY-w"
      },
      "source": [
        "which is identical to $w^c_k$ used by Grad-CAM except for proportionality contant $\\frac{1}{Z}$"
      ]
    }
  ]
}