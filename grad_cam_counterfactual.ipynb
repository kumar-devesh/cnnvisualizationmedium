{
  "nbformat": 4,
  "nbformat_minor": 0,
  "metadata": {
    "colab": {
      "name": "grad-cam counterfactual.ipynb",
      "provenance": [],
      "collapsed_sections": [],
      "authorship_tag": "ABX9TyPQuaa3elfLgJxkUGGG8zBY",
      "include_colab_link": true
    },
    "kernelspec": {
      "name": "python3",
      "display_name": "Python 3"
    },
    "language_info": {
      "name": "python"
    }
  },
  "cells": [
    {
      "cell_type": "markdown",
      "metadata": {
        "id": "view-in-github",
        "colab_type": "text"
      },
      "source": [
        "<a href=\"https://colab.research.google.com/github/kumar-devesh/cnnvisualizationmedium/blob/main/grad_cam_counterfactual.ipynb\" target=\"_parent\"><img src=\"https://colab.research.google.com/assets/colab-badge.svg\" alt=\"Open In Colab\"/></a>"
      ]
    },
    {
      "cell_type": "markdown",
      "metadata": {
        "id": "E8CJbFJEahT5"
      },
      "source": [
        "## Counterfactual explanations using Grad-CAM\n"
      ]
    },
    {
      "cell_type": "markdown",
      "metadata": {
        "id": "vJU6RjHQahWe"
      },
      "source": [
        "weights for the activation maps $A^k$:\n",
        "\n",
        "$$\n",
        "w^c_k=\\frac{1}{Z}\\sum_i\\sum_j - \\frac{\\partial Y^c}{\\partial A^k_{ij}}\n",
        "$$"
      ]
    },
    {
      "cell_type": "markdown",
      "metadata": {
        "id": "HRBWBCtOahbl"
      },
      "source": [
        "pixel (i,j) of the class discriminative saliency map:\n",
        "\n",
        "$$\n",
        "L^c_{ij}=relu(\\sum_k w^c_k.A^k_{ij})\n",
        "$$"
      ]
    },
    {
      "cell_type": "markdown",
      "metadata": {
        "id": "GNIgpY7nap0b"
      },
      "source": [
        "\n",
        "\n",
        "---\n",
        "\n"
      ]
    }
  ]
}